{
 "cells": [
  {
   "cell_type": "code",
   "execution_count": 1,
   "id": "b9ed054c-d73d-404d-b4ef-49d1423125e8",
   "metadata": {},
   "outputs": [
    {
     "name": "stdout",
     "output_type": "stream",
     "text": [
      "{'resourceType': 'Patient', 'id': 'f001', 'text': {'status': 'generated', 'div': '<div xmlns=\"http://www.w3.org/1999/xhtml\"><p><b>Pieter van de Heuvel </b> male, DoB: 1944-11-17 ( id: 738472983 (USUAL))</p></div>'}, 'identifier': [{'use': 'usual', 'system': 'urn:oid:2.16.840.1.113883.2.4.6.3', 'value': '738472983'}, {'use': 'usual', 'system': 'urn:oid:2.16.840.1.113883.2.4.6.3'}], 'active': True, 'name': [{'use': 'usual', 'family': 'van de Heuvel', 'given': ['Pieter'], 'suffix': ['MSc']}], 'telecom': [{'system': 'phone', 'value': '0648352638', 'use': 'mobile'}, {'system': 'email', 'value': 'p.heuvel@gmail.com', 'use': 'home'}], 'gender': 'male', 'birthDate': '1944-11-17', 'deceasedBoolean': False, 'address': [{'use': 'home', 'line': ['Van Egmondkade 23'], 'city': 'Amsterdam', 'postalCode': '1024 RJ', 'country': 'NLD'}], 'maritalStatus': {'coding': [{'system': 'http://terminology.hl7.org/CodeSystem/v3-MaritalStatus', 'code': 'M', 'display': 'Married'}], 'text': 'Getrouwd'}, 'multipleBirthBoolean': True, 'contact': [{'relationship': [{'coding': [{'system': 'http://terminology.hl7.org/CodeSystem/v2-0131', 'code': 'C'}]}], 'name': {'use': 'usual', 'family': 'Abels', 'given': ['Sarah']}, 'telecom': [{'system': 'phone', 'value': '0690383372', 'use': 'mobile'}]}], 'communication': [{'language': {'coding': [{'system': 'urn:ietf:bcp:47', 'code': 'nl', 'display': 'Dutch'}], 'text': 'Nederlands'}, 'preferred': True}], 'managingOrganization': {'reference': 'Organization/f001', 'display': 'Burgers University Medical Centre'}}\n"
     ]
    }
   ],
   "source": [
    "import urllib.request, json \n",
    "with urllib.request.urlopen(\"https://www.hl7.org/fhir/patient-example-f001-pieter.json\") as url:\n",
    "    data = json.load(url)\n",
    "    print(data)"
   ]
  },
  {
   "cell_type": "code",
   "execution_count": null,
   "id": "44a2b17f-ef60-4964-9a04-1338807b14c6",
   "metadata": {},
   "outputs": [],
   "source": []
  }
 ],
 "metadata": {
  "kernelspec": {
   "display_name": "Python 3 (ipykernel)",
   "language": "python",
   "name": "python3"
  },
  "language_info": {
   "codemirror_mode": {
    "name": "ipython",
    "version": 3
   },
   "file_extension": ".py",
   "mimetype": "text/x-python",
   "name": "python",
   "nbconvert_exporter": "python",
   "pygments_lexer": "ipython3",
   "version": "3.10.4"
  }
 },
 "nbformat": 4,
 "nbformat_minor": 5
}
